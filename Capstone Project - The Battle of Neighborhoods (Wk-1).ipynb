{
 "cells": [
  {
   "cell_type": "markdown",
   "metadata": {},
   "source": [
    "# Capstone Project - The Battle of Neighborhoods (Week 1)"
   ]
  },
  {
   "cell_type": "markdown",
   "metadata": {},
   "source": [
    "### COURSERA Course: Applied Data Science Capstone"
   ]
  },
  {
   "cell_type": "markdown",
   "metadata": {},
   "source": [
    "## Introduction"
   ]
  },
  {
   "cell_type": "markdown",
   "metadata": {},
   "source": [
    "In this capstone project, I am utilizing the skills and tools I learnt from Coursera courses. I have selected **New York** city for the project. I am helping the stakeholders to narrow the location for their new business."
   ]
  },
  {
   "cell_type": "markdown",
   "metadata": {},
   "source": [
    "## Business Problem"
   ]
  },
  {
   "cell_type": "markdown",
   "metadata": {},
   "source": [
    "In this project, we are assisting a big indian restaurant chain to open a new restaurant on a foriegn land. Currently, our stakeholders own around 200 restaurants in India and they want to expand their business by opening a new and the first restaurant in the New york City. We have to find a solution for stakholder to open **indian restaurant** chain in the city **New york**, USA.\n",
    "\n",
    "Since there are lots of restaurants in New York city, we will find the **locations that are not crowded with indian restaurants** and we are also interested in **areas with less indian restaurants**.\n",
    "\n",
    "The stakeholders are not only interested in the location to open new chains; they are also interested in the place where they can make good profit. So, we are helping them to find a location where the areas are crowded with other categories like **Art & Entertainment**, **College & Universities**, and **Profession offices**."
   ]
  },
  {
   "cell_type": "markdown",
   "metadata": {},
   "source": [
    "## Data"
   ]
  },
  {
   "cell_type": "markdown",
   "metadata": {},
   "source": [
    "There are five boroughs in new york. We are looking at the number of indian restaurants in the all five boroughs. Based on the count and crowd of the restaraunts, we can make decision on the location to open new restaraurant.\n",
    "\n",
    "Following factors will influence our decission:\n",
    "* number of indian restaurants in the boroughs\n",
    "* density of area with other category venues (Art & Entertainment, College & Universities, and Profession offices)\n",
    "\n",
    "Following data sources will be needed to extract/generate the required information:\n",
    "* Using **geopy** python library, I will collect the lattitude and longitude for all five boroughs.\n",
    "* Restaurants, restaurants type, Postal code, and address will be obtained using **Foursquare API**\n",
    "* Other bussiness data will also be obtained from **Foursquare API**. This data will help us to understand the density of the area. \n",
    "* From **Department of Health, NY**, borough and neighborhood data will be obtained."
   ]
  }
 ],
 "metadata": {
  "kernelspec": {
   "display_name": "Python 3",
   "language": "python",
   "name": "python3"
  },
  "language_info": {
   "codemirror_mode": {
    "name": "ipython",
    "version": 3
   },
   "file_extension": ".py",
   "mimetype": "text/x-python",
   "name": "python",
   "nbconvert_exporter": "python",
   "pygments_lexer": "ipython3",
   "version": "3.8.5"
  }
 },
 "nbformat": 4,
 "nbformat_minor": 4
}
